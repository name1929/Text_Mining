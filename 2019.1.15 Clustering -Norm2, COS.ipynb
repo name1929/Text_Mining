{
 "cells": [
  {
   "cell_type": "markdown",
   "metadata": {},
   "source": [
    "## 1. Clustering - Norm2"
   ]
  },
  {
   "cell_type": "markdown",
   "metadata": {},
   "source": [
    "    Clustering\n",
    "    --각 벡터는 의미공간에서의 좌표값 역할을 한다\n",
    "    --텍스트 데이터를 알고리즘이 인식할 수 있는 벡터 형태로 변환한다\n",
    "    --벡터공간에서의 거리 척도로 Euclidean, Cosine 등이 이용됨\n",
    "    --Euclidean distance는 벡터의 크기(문서의 길이)에 영향을 받는다\n",
    "    \n",
    "    Norm_2 \n",
    "    -- 벡터의 크기 또는 유클리드 길이\n",
    "    -- 벡터의 크기를 알게 된다면 정규화를 통해 다른 것과 비교하기 쉽도록 바꿀 수 있다\n",
    "    -- 정규화를 하는 이유는 벡터와의 크기는 상관없이 방향을 정의하기 때문이다\n",
    "    \n"
   ]
  },
  {
   "cell_type": "code",
   "execution_count": 10,
   "metadata": {},
   "outputs": [
    {
     "name": "stdout",
     "output_type": "stream",
     "text": [
      "Doc1 euclidean norm : 1.7320508075688772\n"
     ]
    }
   ],
   "source": [
    "import math\n",
    "\n",
    "Doc1 = {'term1' :1, 'term2' :1, 'term3':1, 'term4':0, 'term5':0}\n",
    "Doc2 = {'term1' :0, 'term2' :0, 'term3':2, 'term4':1, 'term5':1}\n",
    "Doc3 = {'term1' :2, 'term2' :2, 'term3':2, 'term4':0, 'term5':1}\n",
    "\n",
    "\n",
    "Doc_euclidean_norm =0\n",
    "sum_value = 0\n",
    "\n",
    "for j in Doc1:\n",
    "    sum_value += math.pow(Doc1[j],2) #pow(a, b) : a를 b제곱\n",
    "Doc1_euclidean_norm=math.sqrt(sum_value) #sqrt(Square root) : 제곱근 반환\n",
    "print('Doc1 euclidean norm :', Doc1_euclidean_norm)"
   ]
  },
  {
   "cell_type": "code",
   "execution_count": 11,
   "metadata": {},
   "outputs": [
    {
     "name": "stdout",
     "output_type": "stream",
     "text": [
      "Doc1 normalize : [0.5773502691896258, 0.5773502691896258, 0.5773502691896258, 0.0, 0.0]\n"
     ]
    }
   ],
   "source": [
    "Doc1_normalize =[]\n",
    "for i in Doc1:\n",
    "    Doc1_normalize.append(Doc1[i]/Doc1_euclidean_norm)\n",
    "print('Doc1 normalize :', Doc1_normalize)"
   ]
  },
  {
   "cell_type": "code",
   "execution_count": null,
   "metadata": {},
   "outputs": [],
   "source": []
  },
  {
   "cell_type": "markdown",
   "metadata": {},
   "source": [
    "## 2. Clustering - COS"
   ]
  },
  {
   "cell_type": "markdown",
   "metadata": {},
   "source": [
    "    dot : Dot product of two arrays. Specifically,\n",
    "    \n",
    "    - If both `a` and `b` are 1-D arrays, it is inner product of vectors\n",
    "      (without complex conjugation).\n",
    "\n",
    "    - If both `a` and `b` are 2-D arrays, it is matrix multiplication,\n",
    "      but using :func:`matmul` or ``a @ b`` is preferred.\n",
    "\n",
    "    - If either `a` or `b` is 0-D (scalar), it is equivalent to :func:`multiply`\n",
    "      and using ``numpy.multiply(a, b)`` or ``a * b`` is preferred."
   ]
  },
  {
   "cell_type": "code",
   "execution_count": 16,
   "metadata": {},
   "outputs": [
    {
     "data": {
      "text/plain": [
       "2"
      ]
     },
     "execution_count": 16,
     "metadata": {},
     "output_type": "execute_result"
    }
   ],
   "source": [
    "import numpy as np\n",
    "\n",
    "Doc1 = np.array([1,1,1,0,0])\n",
    "Doc2 = np.array([0,0,2,1,1])\n",
    "Doc3 = np.array([2,2,2,0,1])\n",
    "\n",
    "#내적 : 벡터끼리의 곱셈(?)\n",
    " \n",
    "Doc1_dot_Doc2 = np.dot(Doc1, Doc2) \n",
    "Doc1_dot_Doc2"
   ]
  },
  {
   "cell_type": "code",
   "execution_count": 18,
   "metadata": {},
   "outputs": [
    {
     "data": {
      "text/plain": [
       "6"
      ]
     },
     "execution_count": 18,
     "metadata": {},
     "output_type": "execute_result"
    }
   ],
   "source": [
    "Doc1_dot_Doc3 = np.dot(Doc1, Doc3)\n",
    "Doc2_dot_Doc3 = np.dot(Doc2,Doc3 )\n",
    "Doc1_dot_Doc3"
   ]
  },
  {
   "cell_type": "markdown",
   "metadata": {},
   "source": [
    "COS 계산"
   ]
  },
  {
   "cell_type": "code",
   "execution_count": 76,
   "metadata": {},
   "outputs": [
    {
     "name": "stdout",
     "output_type": "stream",
     "text": [
      "0.5285954792089682\n",
      "0.03923107716947705\n",
      "0.4338614829277021\n"
     ]
    }
   ],
   "source": [
    "print(1-(Doc1_dot_Doc2/(np.sqrt(np.sum(np.power(Doc1,2)))*np.sqrt(np.sum(np.power(Doc2,2))))))\n",
    "\n",
    "print(1-(Doc1_dot_Doc3/(np.sqrt(np.sum(np.power(Doc1,2)))*np.sqrt(np.sum(np.power(Doc3,2))))))\n",
    "\n",
    "print(1-(Doc2_dot_Doc3/(np.sqrt(np.sum(np.power(Doc2,2)))*np.sqrt(np.sum(np.power(Doc3,2))))))"
   ]
  },
  {
   "cell_type": "code",
   "execution_count": null,
   "metadata": {},
   "outputs": [],
   "source": []
  },
  {
   "cell_type": "code",
   "execution_count": null,
   "metadata": {},
   "outputs": [],
   "source": []
  }
 ],
 "metadata": {
  "kernelspec": {
   "display_name": "Python 3",
   "language": "python",
   "name": "python3"
  },
  "language_info": {
   "codemirror_mode": {
    "name": "ipython",
    "version": 3
   },
   "file_extension": ".py",
   "mimetype": "text/x-python",
   "name": "python",
   "nbconvert_exporter": "python",
   "pygments_lexer": "ipython3",
   "version": "3.6.5"
  }
 },
 "nbformat": 4,
 "nbformat_minor": 2
}
