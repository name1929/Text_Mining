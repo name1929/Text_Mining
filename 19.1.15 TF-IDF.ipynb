{
 "cells": [
  {
   "cell_type": "code",
   "execution_count": null,
   "metadata": {},
   "outputs": [],
   "source": [
    "import math\n",
    "from collections import Counter\n",
    "\n",
    "docu = {'doc_a':['딸기', '안녕', '안녕', '안녕'],\n",
    "'doc_b':['안녕', '안녕', '시금치'],\n",
    "'doc_c':['딸기', '안녕', '사슴', '사슴'],\n",
    "'doc_d':['딸기', '안녕'],\n",
    "'doc_e':['시금치', '안녕']}"
   ]
  },
  {
   "cell_type": "code",
   "execution_count": 3,
   "metadata": {},
   "outputs": [
    {
     "data": {
      "text/plain": [
       "dict_keys(['doc_a', 'doc_b', 'doc_c', 'doc_d', 'doc_e'])"
      ]
     },
     "execution_count": 3,
     "metadata": {},
     "output_type": "execute_result"
    }
   ],
   "source": [
    "docu.keys()"
   ]
  },
  {
   "cell_type": "code",
   "execution_count": 5,
   "metadata": {},
   "outputs": [
    {
     "data": {
      "text/plain": [
       "(Counter({'딸기': 1, '안녕': 3}), Counter({'안녕': 2, '시금치': 1}))"
      ]
     },
     "execution_count": 5,
     "metadata": {},
     "output_type": "execute_result"
    }
   ],
   "source": [
    "Counter(docu['doc_a']), Counter(docu['doc_b'])"
   ]
  },
  {
   "cell_type": "code",
   "execution_count": 8,
   "metadata": {},
   "outputs": [
    {
     "data": {
      "text/plain": [
       "dict_keys(['딸기', '안녕'])"
      ]
     },
     "execution_count": 8,
     "metadata": {},
     "output_type": "execute_result"
    }
   ],
   "source": [
    "a=Counter(docu['doc_a'])\n",
    "a.keys()"
   ]
  },
  {
   "cell_type": "code",
   "execution_count": 30,
   "metadata": {},
   "outputs": [
    {
     "data": {
      "text/plain": [
       "{'시금치': 0.5, '안녕': 0.5}"
      ]
     },
     "execution_count": 30,
     "metadata": {},
     "output_type": "execute_result"
    }
   ],
   "source": [
    "tf"
   ]
  },
  {
   "cell_type": "code",
   "execution_count": 31,
   "metadata": {
    "scrolled": true
   },
   "outputs": [
    {
     "data": {
      "text/plain": [
       "dict_keys(['시금치', '안녕'])"
      ]
     },
     "execution_count": 31,
     "metadata": {},
     "output_type": "execute_result"
    }
   ],
   "source": [
    "ct.keys()"
   ]
  },
  {
   "cell_type": "code",
   "execution_count": 32,
   "metadata": {},
   "outputs": [
    {
     "data": {
      "text/plain": [
       "{'시금치': 2, '안녕': 5}"
      ]
     },
     "execution_count": 32,
     "metadata": {},
     "output_type": "execute_result"
    }
   ],
   "source": [
    "df"
   ]
  },
  {
   "cell_type": "code",
   "execution_count": 33,
   "metadata": {},
   "outputs": [
    {
     "data": {
      "text/plain": [
       "['딸기', '안녕', '안녕', '안녕']"
      ]
     },
     "execution_count": 33,
     "metadata": {},
     "output_type": "execute_result"
    }
   ],
   "source": [
    "docu['doc_a']"
   ]
  },
  {
   "cell_type": "code",
   "execution_count": 34,
   "metadata": {},
   "outputs": [
    {
     "data": {
      "text/plain": [
       "{'딸기', '안녕'}"
      ]
     },
     "execution_count": 34,
     "metadata": {},
     "output_type": "execute_result"
    }
   ],
   "source": [
    "set(docu['doc_a'])"
   ]
  },
  {
   "cell_type": "code",
   "execution_count": 40,
   "metadata": {},
   "outputs": [
    {
     "data": {
      "text/plain": [
       "dict_keys(['시금치', '안녕'])"
      ]
     },
     "execution_count": 40,
     "metadata": {},
     "output_type": "execute_result"
    }
   ],
   "source": [
    "ct.keys()"
   ]
  },
  {
   "cell_type": "code",
   "execution_count": 53,
   "metadata": {},
   "outputs": [
    {
     "data": {
      "text/plain": [
       "{'안녕'}"
      ]
     },
     "execution_count": 53,
     "metadata": {},
     "output_type": "execute_result"
    }
   ],
   "source": [
    "for i in ct.keys():\n",
    "    hello = set(docu['doc_a']) & {i}\n",
    "hello"
   ]
  },
  {
   "cell_type": "code",
   "execution_count": 57,
   "metadata": {},
   "outputs": [
    {
     "data": {
      "text/plain": [
       "(dict_keys(['시금치', '안녕']), {'딸기', '안녕'})"
      ]
     },
     "execution_count": 57,
     "metadata": {},
     "output_type": "execute_result"
    }
   ],
   "source": [
    "ct.keys(), set(docu['doc_a'])"
   ]
  },
  {
   "cell_type": "code",
   "execution_count": 60,
   "metadata": {},
   "outputs": [
    {
     "data": {
      "text/plain": [
       "({'안녕'}, {'딸기', '시금치', '안녕'})"
      ]
     },
     "execution_count": 60,
     "metadata": {},
     "output_type": "execute_result"
    }
   ],
   "source": [
    "pp = ct.keys() & set(docu['doc_a'])\n",
    "qq = ct.keys() | set(docu['doc_a'])\n",
    "\n",
    "pp, qq"
   ]
  },
  {
   "cell_type": "code",
   "execution_count": 56,
   "metadata": {},
   "outputs": [
    {
     "name": "stdout",
     "output_type": "stream",
     "text": [
      "yes\n"
     ]
    }
   ],
   "source": [
    "if hello != set():\n",
    "    print('yes')"
   ]
  },
  {
   "cell_type": "code",
   "execution_count": 66,
   "metadata": {},
   "outputs": [
    {
     "name": "stdout",
     "output_type": "stream",
     "text": [
      "ct.keys() :  dict_keys(['딸기', '안녕'])\n",
      "df[cnoun] : 딸기 1\n",
      "df[cnoun] : 딸기 2\n",
      "df[cnoun] : 딸기 3\n",
      "ct.keys() :  dict_keys(['딸기', '안녕'])\n",
      "df[cnoun] : 안녕 1\n",
      "df[cnoun] : 안녕 2\n",
      "df[cnoun] : 안녕 3\n",
      "df[cnoun] : 안녕 4\n",
      "df[cnoun] : 안녕 5\n",
      "ct.keys() :  dict_keys(['안녕', '시금치'])\n",
      "df[cnoun] : 안녕 1\n",
      "df[cnoun] : 안녕 2\n",
      "df[cnoun] : 안녕 3\n",
      "df[cnoun] : 안녕 4\n",
      "df[cnoun] : 안녕 5\n",
      "ct.keys() :  dict_keys(['안녕', '시금치'])\n",
      "df[cnoun] : 시금치 1\n",
      "df[cnoun] : 시금치 2\n",
      "ct.keys() :  dict_keys(['딸기', '안녕', '사슴'])\n",
      "df[cnoun] : 딸기 1\n",
      "df[cnoun] : 딸기 2\n",
      "df[cnoun] : 딸기 3\n",
      "ct.keys() :  dict_keys(['딸기', '안녕', '사슴'])\n",
      "df[cnoun] : 안녕 1\n",
      "df[cnoun] : 안녕 2\n",
      "df[cnoun] : 안녕 3\n",
      "df[cnoun] : 안녕 4\n",
      "df[cnoun] : 안녕 5\n",
      "ct.keys() :  dict_keys(['딸기', '안녕', '사슴'])\n",
      "df[cnoun] : 사슴 1\n",
      "ct.keys() :  dict_keys(['딸기', '안녕'])\n",
      "df[cnoun] : 딸기 1\n",
      "df[cnoun] : 딸기 2\n",
      "df[cnoun] : 딸기 3\n",
      "ct.keys() :  dict_keys(['딸기', '안녕'])\n",
      "df[cnoun] : 안녕 1\n",
      "df[cnoun] : 안녕 2\n",
      "df[cnoun] : 안녕 3\n",
      "df[cnoun] : 안녕 4\n",
      "df[cnoun] : 안녕 5\n",
      "ct.keys() :  dict_keys(['시금치', '안녕'])\n",
      "df[cnoun] : 시금치 1\n",
      "df[cnoun] : 시금치 2\n",
      "ct.keys() :  dict_keys(['시금치', '안녕'])\n",
      "df[cnoun] : 안녕 1\n",
      "df[cnoun] : 안녕 2\n",
      "df[cnoun] : 안녕 3\n",
      "df[cnoun] : 안녕 4\n",
      "df[cnoun] : 안녕 5\n"
     ]
    },
    {
     "data": {
      "text/plain": [
       "{'doc_a': {'딸기': 0.05578588782855244, '안녕': -0.13674116759546595},\n",
       " 'doc_b': {'안녕': -0.12154770452930305, '시금치': 0.1702752079219969},\n",
       " 'doc_c': {'딸기': 0.05578588782855244,\n",
       "  '안녕': -0.04558038919848865,\n",
       "  '사슴': 0.45814536593707755},\n",
       " 'doc_d': {'딸기': 0.11157177565710488, '안녕': -0.0911607783969773},\n",
       " 'doc_e': {'시금치': 0.25541281188299536, '안녕': -0.0911607783969773}}"
      ]
     },
     "execution_count": 66,
     "metadata": {},
     "output_type": "execute_result"
    }
   ],
   "source": [
    "total_tf_idf = {}\n",
    "\n",
    "for d in docu.keys():\n",
    "    ct=Counter(docu[d])\n",
    "    \n",
    "    \n",
    "    tf={}\n",
    "    for keyd in ct.keys():\n",
    "        tf[keyd] = ct[keyd] /len(docu[d])\n",
    "        \n",
    "        \n",
    "    df={}\n",
    "    for cnoun in ct.keys():\n",
    "        df[cnoun]=0\n",
    "    \n",
    "    \n",
    "    for cnoun in ct.keys():\n",
    "        print(\"ct.keys() : \", ct.keys())\n",
    "        for keyword in docu.keys():\n",
    "\n",
    "            sp_keyword = set(docu[keyword]) & {cnoun}\n",
    "            \n",
    "            \n",
    "            if sp_keyword !=set(): #sp_keyword에 값이 있다면 \n",
    "                df[cnoun] +=1\n",
    "                print(\"df[cnoun] :\", cnoun, df[cnoun])\n",
    "                \n",
    "                \n",
    "    tf_idf ={}\n",
    "    for keyword in ct.keys():\n",
    "        idf = math.log(len(docu.keys())/(1+df[keyword]))\n",
    "        \n",
    "        tf_idf[keyword] = tf[keyword] * idf\n",
    "        \n",
    "    total_tf_idf[d] = tf_idf\n",
    "    \n",
    "total_tf_idf\n"
   ]
  }
 ],
 "metadata": {
  "kernelspec": {
   "display_name": "Python 3",
   "language": "python",
   "name": "python3"
  },
  "language_info": {
   "codemirror_mode": {
    "name": "ipython",
    "version": 3
   },
   "file_extension": ".py",
   "mimetype": "text/x-python",
   "name": "python",
   "nbconvert_exporter": "python",
   "pygments_lexer": "ipython3",
   "version": "3.6.5"
  }
 },
 "nbformat": 4,
 "nbformat_minor": 2
}
