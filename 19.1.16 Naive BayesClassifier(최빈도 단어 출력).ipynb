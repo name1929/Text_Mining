{
 "cells": [
  {
   "cell_type": "code",
   "execution_count": 6,
   "metadata": {
    "scrolled": true
   },
   "outputs": [
    {
     "name": "stderr",
     "output_type": "stream",
     "text": [
      "C:\\Users\\user\\Anaconda3\\lib\\site-packages\\konlpy\\tag\\_okt.py:16: UserWarning: \"Twitter\" has changed to \"Okt\" since KoNLPy v0.4.5.\n",
      "  warn('\"Twitter\" has changed to \"Okt\" since KoNLPy v0.4.5.')\n"
     ]
    },
    {
     "name": "stdout",
     "output_type": "stream",
     "text": [
      "<Text: NMSC>\n"
     ]
    }
   ],
   "source": [
    "import nltk\n",
    "from konlpy.tag import Twitter\n",
    "pos_tagger = Twitter()\n",
    "\n",
    "def read_data(filename):\n",
    "    with open(filename, 'r', encoding='utf-8') as f:\n",
    "        data=[line.split('\\t') for line in f.read().splitlines()]\n",
    "        data=data[1:]\n",
    "    return data\n",
    "\n",
    "def tokenize(doc):\n",
    "    return['/'.join(t) for t in pos_tagger.pos(doc, norm=True, stem=True)]\n",
    "\n",
    "\n",
    "train_data = read_data('D:\\\\nsmc-master\\\\ratings_train.txt')\n",
    "test_data = read_data('D:\\\\nsmc-master\\\\ratings_test.txt')\n",
    "\n",
    "\n",
    "train_docs =[(tokenize(row[1]), row[2]) for row in train_data[:5000]]\n",
    "test_docs =[(tokenize(row[1]), row[2]) for row in test_data[:5000]]\n",
    "\n",
    "tokens = [t for d in train_docs for t in d[0]]\n",
    "\n",
    "text = nltk.Text(tokens, name='NMSC')\n",
    "\n",
    "print(text)\n",
    "\n"
   ]
  },
  {
   "cell_type": "markdown",
   "metadata": {},
   "source": [
    "### 최빈도 단어"
   ]
  },
  {
   "cell_type": "code",
   "execution_count": 9,
   "metadata": {},
   "outputs": [],
   "source": [
    "selected_words = [f[0] for f in text.vocab().most_common(2000)] #최빈도 단어 2000개\n",
    "\n",
    "def term_exists(doc):\n",
    "    return{'exists({})'.format(word): (word in set(doc)) for word in selected_words}\n",
    "\n",
    "train_xy = [(term_exists(d), c) for d, c, in train_docs]\n",
    "test_xy = [(term_exists(d), c) for d, c, in test_docs]\n",
    "\n"
   ]
  },
  {
   "cell_type": "markdown",
   "metadata": {},
   "source": [
    "### 정확도 출력"
   ]
  },
  {
   "cell_type": "code",
   "execution_count": 10,
   "metadata": {},
   "outputs": [
    {
     "name": "stdout",
     "output_type": "stream",
     "text": [
      "0.8048\n"
     ]
    }
   ],
   "source": [
    "classifier = nltk.NaiveBayesClassifier.train(train_xy)\n",
    "print(nltk.classify.accuracy(classifier, test_xy))"
   ]
  },
  {
   "cell_type": "code",
   "execution_count": null,
   "metadata": {},
   "outputs": [],
   "source": []
  }
 ],
 "metadata": {
  "kernelspec": {
   "display_name": "Python 3",
   "language": "python",
   "name": "python3"
  },
  "language_info": {
   "codemirror_mode": {
    "name": "ipython",
    "version": 3
   },
   "file_extension": ".py",
   "mimetype": "text/x-python",
   "name": "python",
   "nbconvert_exporter": "python",
   "pygments_lexer": "ipython3",
   "version": "3.6.5"
  }
 },
 "nbformat": 4,
 "nbformat_minor": 2
}
