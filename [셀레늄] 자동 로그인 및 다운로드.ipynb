{
 "cells": [
  {
   "cell_type": "markdown",
   "metadata": {},
   "source": [
    "# Selenium 라이브러리의 webdriver 모듈 활용"
   ]
  },
  {
   "cell_type": "markdown",
   "metadata": {},
   "source": [
    "## 1. 라이브러리 불러오기"
   ]
  },
  {
   "cell_type": "code",
   "execution_count": 1,
   "metadata": {},
   "outputs": [],
   "source": [
    "from selenium import webdriver\n",
    "\n",
    "driver = webdriver.Chrome(\"D:\\chromedriver_win32\\chromedriver\")\n",
    "# driver = webdriver.PhantomJS(\"D:\\phantomjs-2.1.1-windows\\bin\\phantomjs\")"
   ]
  },
  {
   "cell_type": "markdown",
   "metadata": {},
   "source": [
    "## 2. 네이버 자동 로그인"
   ]
  },
  {
   "cell_type": "markdown",
   "metadata": {},
   "source": [
    "    1. HTML 창 오픈(fn + F12) - (ctrl + shift + c) 원하는 부분을 선택 - 해당하는 소스가 나타나면 우클릭 - copy : Xpath 가장 편함\n",
    "    \n",
    "    +)by_name, by_css_selector 등 다양한 옵션이 있다\n",
    "\n",
    "    2. driver.find_element_by_xpath('copy한 Xpath 입력')\n",
    "\n",
    "    3. 입력 해야하는 부분이면 .send_keys 하고 / 눌러야 하는 부분이면 .click() 입력"
   ]
  },
  {
   "cell_type": "code",
   "execution_count": 6,
   "metadata": {},
   "outputs": [],
   "source": [
    "from selenium import webdriver\n",
    "driver = webdriver.Chrome(\"D:\\chromedriver_win32\\chromedriver\")\n",
    "# driver.implicitly_wait(3)\n",
    "\n",
    "driver.get('https://nid.naver.com/nidlogin.login')\n",
    "driver.find_element_by_name('id').send_keys('메일주소')\n",
    "driver.find_element_by_name('pw').send_keys('비밀번호')\n",
    "\n",
    "driver.find_element_by_xpath('//*[@id=\"frmNIDLogin\"]/fieldset/input').click()\n",
    "#HTML창에서 그 부분 우클릭 -> copy -> xpath !"
   ]
  },
  {
   "cell_type": "markdown",
   "metadata": {},
   "source": [
    "## 3. 기상자료 개방포털에서 자료 받기"
   ]
  },
  {
   "cell_type": "code",
   "execution_count": 5,
   "metadata": {},
   "outputs": [],
   "source": [
    "from selenium import webdriver\n",
    "import time\n",
    "\n",
    "driver = webdriver.Chrome(\"D:\\chromedriver_win32\\chromedriver\")\n",
    "\n",
    "driver.get('https://data.kma.go.kr/cmmn/main.do#')\n",
    "driver.implicitly_wait(2)\n",
    "\n",
    "driver.find_element_by_id('loginBtn').click()\n",
    "time.sleep(2)\n",
    "\n",
    "driver.find_element_by_name('loginId').send_keys('ID')\n",
    "driver.find_element_by_name('passwordNo').send_keys('password')\n",
    "time.sleep(2)\n",
    "\n",
    "driver.find_element_by_xpath('//*[@id=\"loginbtn\"]').click()\n",
    "#로그인 된 상태\n",
    "time.sleep(2)\n",
    "\n",
    "driver.find_element_by_xpath('//*[@id=\"gnb\"]/ul/li[2]/a').click()\n",
    "time.sleep(2)\n",
    "\n",
    "driver.find_element_by_xpath('//*[@id=\"gnb\"]/ul/li[2]/a').click()\n",
    "time.sleep(2)\n",
    "\n",
    "driver.find_element_by_id('btnStn1').click()\n",
    "time.sleep(2) #지점명 선택\n",
    "\n",
    "driver.find_element_by_xpath('//*[@id=\"ztree_98_switch\"]').click()\n",
    "time.sleep(2) #경상남도 선택\n",
    "\n",
    "\n",
    "# driver.find_element_by_xpath('//*[@id=\"ztree_99_check\"]').clilck()\n",
    "# time.sleep(5) #거제시 선택\n",
    "driver.find_element_by_xpath('//*[@id=\"ztree_1_check\"]').click()\n",
    "time.sleep(2)\n",
    "#전체 선택\n",
    "\n",
    "\n",
    "driver.find_element_by_xpath('//*[@id=\"sidetreecontrol\"]/ul[2]/li/a').click()\n",
    "time.sleep(2) #선택완료\n",
    "\n",
    "driver.find_element_by_id('gubun').click()\n",
    "time.sleep(2)\n",
    "\n",
    "\n",
    "driver.find_element_by_xpath('//*[@id=\"ztree_10_check\"]').click()\n",
    "time.sleep(2)\n",
    "driver.find_element_by_xpath('//*[@id=\"ztree_13_check\"]').click()\n",
    "time.sleep(2)\n",
    "driver.find_element_by_xpath('//*[@id=\"ztree_16_check\"]').click()\n",
    "time.sleep(2)\n",
    "driver.find_element_by_xpath('//*[@id=\"sidetreecontrol\"]/ul[2]/li/a').click()\n",
    "time.sleep(2)\n",
    "driver.find_element_by_xpath('//*[@id=\"dsForm\"]/div[3]/a[1]/span').click()\n",
    "time.sleep(2)\n",
    "driver.find_element_by_xpath('//*[@id=\"content\"]/div[2]/div[3]/div[2]/div[2]/a').click()\n",
    "time.sleep(2)\n",
    "\n",
    "driver.find_element_by_xpath('//*[@id=\"reqstPurposeCd7\"]').click()\n",
    "time.sleep(8)\n",
    "\n",
    "driver.find_element_by_css_selector('#btnArea > input.btn.btn-primary').click()\n",
    "# xpath로 했더니, 오류가 났음. 그래서 (css) selcctor로 했더니 됨!\n",
    "# Selecting via css selector\n",
    "\n",
    "time.sleep(2)"
   ]
  }
 ],
 "metadata": {
  "kernelspec": {
   "display_name": "Python 3",
   "language": "python",
   "name": "python3"
  },
  "language_info": {
   "codemirror_mode": {
    "name": "ipython",
    "version": 3
   },
   "file_extension": ".py",
   "mimetype": "text/x-python",
   "name": "python",
   "nbconvert_exporter": "python",
   "pygments_lexer": "ipython3",
   "version": "3.6.5"
  }
 },
 "nbformat": 4,
 "nbformat_minor": 2
}
